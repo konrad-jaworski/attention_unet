{
 "cells": [
  {
   "cell_type": "code",
   "execution_count": 1,
   "id": "91dfca68",
   "metadata": {},
   "outputs": [],
   "source": [
    "import torch\n",
    "import numpy as np\n",
    "from matplotlib import pyplot as plt"
   ]
  },
  {
   "cell_type": "code",
   "execution_count": 2,
   "id": "80a6cf12",
   "metadata": {},
   "outputs": [],
   "source": [
    "from models.networks.Attention_unet import AttentionUnet"
   ]
  },
  {
   "cell_type": "code",
   "execution_count": 3,
   "id": "4a027580",
   "metadata": {},
   "outputs": [],
   "source": [
    "from models.layers.grid_attention import *"
   ]
  },
  {
   "cell_type": "code",
   "execution_count": 4,
   "id": "6294791d",
   "metadata": {},
   "outputs": [],
   "source": [
    "from transforms.augmentations import *"
   ]
  },
  {
   "cell_type": "code",
   "execution_count": null,
   "id": "e5f84ee9",
   "metadata": {},
   "outputs": [
    {
     "ename": "AttributeError",
     "evalue": "'Tensor' object has no attribute 'unsquezze'",
     "output_type": "error",
     "traceback": [
      "\u001b[31m---------------------------------------------------------------------------\u001b[39m",
      "\u001b[31mAttributeError\u001b[39m                            Traceback (most recent call last)",
      "\u001b[36mCell\u001b[39m\u001b[36m \u001b[39m\u001b[32mIn[6]\u001b[39m\u001b[32m, line 8\u001b[39m\n\u001b[32m      5\u001b[39m x=torch.from_numpy(x).to(torch.float64)\n\u001b[32m      6\u001b[39m y=torch.from_numpy(y).to(torch.uint8)\n\u001b[32m----> \u001b[39m\u001b[32m8\u001b[39m x=\u001b[43mx\u001b[49m\u001b[43m.\u001b[49m\u001b[43munsquezze\u001b[49m(\u001b[32m0\u001b[39m)\n",
      "\u001b[31mAttributeError\u001b[39m: 'Tensor' object has no attribute 'unsquezze'"
     ]
    }
   ],
   "source": [
    "sample=np.load('/mnt/43e5e0ce-4877-4cb7-9293-17b386c78736/attention_unet/data/Only_gaussian/param_fbh_gaussian_size5mm_depth10pct_thickness3mm.npz')\n",
    "x=sample['data']\n",
    "y=sample['mask']\n",
    "\n",
    "x=torch.from_numpy(x).to(torch.float64)\n",
    "y=torch.from_numpy(y).to(torch.uint8)\n",
    "\n",
    "x=x.un"
   ]
  },
  {
   "cell_type": "code",
   "execution_count": null,
   "id": "d0dbec9f",
   "metadata": {},
   "outputs": [],
   "source": [
    "transforms=[\n",
    "    RandomPhaseAwareSpeedChange(),\n",
    "    RandomBrightnessContrast(),\n",
    "    PrependFirstFrame(),\n",
    "    RandomFlip3D(axes=(1,2)),\n",
    "    RandomElasticTransform(),\n",
    "    RandomSequenceRotation(),\n",
    "    RandomCropSequence(),\n",
    "    AddGaussianNoise3D()\n",
    "]     "
   ]
  }
 ],
 "metadata": {
  "kernelspec": {
   "display_name": "venv",
   "language": "python",
   "name": "python3"
  },
  "language_info": {
   "codemirror_mode": {
    "name": "ipython",
    "version": 3
   },
   "file_extension": ".py",
   "mimetype": "text/x-python",
   "name": "python",
   "nbconvert_exporter": "python",
   "pygments_lexer": "ipython3",
   "version": "3.12.3"
  }
 },
 "nbformat": 4,
 "nbformat_minor": 5
}
