{
 "cells": [
  {
   "cell_type": "code",
   "execution_count": 1,
   "id": "bab0b827",
   "metadata": {},
   "outputs": [],
   "source": [
    "import torch\n",
    "import numpy as np\n",
    "from matplotlib import pyplot as plt\n",
    "from torch.utils.data import DataLoader\n",
    "from pulse_method.toolbox_pulse import *\n",
    "from models.networks.Attention_unet import AttentionUnet\n",
    "from transforms.augmentations import *\n",
    "from models.layers.grid_attention import *\n",
    "\n",
    "import os\n",
    "import json\n",
    "import random"
   ]
  },
  {
   "cell_type": "code",
   "execution_count": 2,
   "id": "85ddb27e",
   "metadata": {},
   "outputs": [],
   "source": [
    "from pulse_method.toolbox_pulse import thermograms\n",
    "\n",
    "operator=thermograms()"
   ]
  },
  {
   "cell_type": "code",
   "execution_count": 3,
   "id": "92f9c87f",
   "metadata": {},
   "outputs": [],
   "source": [
    "transforms=[\n",
    "    RandomPhaseAwareSpeedChange(),\n",
    "    RandomBrightnessContrast(),\n",
    "    PrependFirstFrame(),\n",
    "    RandomFlip3D(axes=(1,2)),\n",
    "    RandomElasticTransform(),\n",
    "    RandomSequenceRotation(),\n",
    "    RandomCropSequence(),\n",
    "    AddGaussianNoise3D(),\n",
    "    NormalizeTo01()\n",
    "]     "
   ]
  },
  {
   "cell_type": "code",
   "execution_count": 4,
   "id": "13164252",
   "metadata": {},
   "outputs": [],
   "source": [
    "modification=Compose3D(transforms=transforms)"
   ]
  },
  {
   "cell_type": "code",
   "execution_count": 5,
   "id": "c314de6f",
   "metadata": {},
   "outputs": [],
   "source": [
    "def create_splits(data_dir, output_dir, seed=42):\n",
    "    random.seed(seed)\n",
    "\n",
    "    # 1. Collect all file paths\n",
    "    all_files = [os.path.join(data_dir, f) for f in os.listdir(data_dir) if os.path.isfile(os.path.join(data_dir, f))]\n",
    "    all_files.sort()  # optional: keep consistent ordering\n",
    "    random.shuffle(all_files)\n",
    "\n",
    "    # 2. Split off 10% for validation\n",
    "    n_total = len(all_files)\n",
    "    n_val = int(0.1 * n_total)\n",
    "\n",
    "    val_files = all_files[:n_val]\n",
    "    remaining_files = all_files[n_val:]\n",
    "\n",
    "    # 3. Create subsets: 50%, 75%, 100% of remaining\n",
    "    n_rem = len(remaining_files)\n",
    "\n",
    "    subsets = {\n",
    "        \"50\": remaining_files[:int(0.5 * n_rem)],\n",
    "        \"75\": remaining_files[:int(0.75 * n_rem)],\n",
    "        \"100\": remaining_files\n",
    "    }\n",
    "\n",
    "    # 4. Save JSON files\n",
    "    os.makedirs(output_dir, exist_ok=True)\n",
    "\n",
    "    for key, train_files in subsets.items():\n",
    "        split = {\n",
    "            \"train\": train_files,\n",
    "            \"val\": val_files\n",
    "        }\n",
    "        out_path = os.path.join(output_dir, f\"split_{key}.json\")\n",
    "        with open(out_path, \"w\") as f:\n",
    "            json.dump(split, f, indent=4)\n",
    "        print(f\"Saved {out_path} with {len(train_files)} train and {len(val_files)} val samples.\")\n"
   ]
  },
  {
   "cell_type": "code",
   "execution_count": 6,
   "id": "003b7b3a",
   "metadata": {},
   "outputs": [
    {
     "name": "stdout",
     "output_type": "stream",
     "text": [
      "Saved /mnt/43e5e0ce-4877-4cb7-9293-17b386c78736/attention_unet/splits/split_50.json with 162 train and 36 val samples.\n",
      "Saved /mnt/43e5e0ce-4877-4cb7-9293-17b386c78736/attention_unet/splits/split_75.json with 243 train and 36 val samples.\n",
      "Saved /mnt/43e5e0ce-4877-4cb7-9293-17b386c78736/attention_unet/splits/split_100.json with 324 train and 36 val samples.\n"
     ]
    }
   ],
   "source": [
    "create_splits(\"/mnt/43e5e0ce-4877-4cb7-9293-17b386c78736/attention_unet/data/All_data\", \"/mnt/43e5e0ce-4877-4cb7-9293-17b386c78736/attention_unet/splits\")"
   ]
  },
  {
   "cell_type": "code",
   "execution_count": 7,
   "id": "5ec473c0",
   "metadata": {},
   "outputs": [],
   "source": [
    "from datasets.cd_dataset import SequenceDataset"
   ]
  },
  {
   "cell_type": "code",
   "execution_count": 8,
   "id": "863efa2c",
   "metadata": {},
   "outputs": [],
   "source": [
    "import json"
   ]
  },
  {
   "cell_type": "code",
   "execution_count": 9,
   "id": "15ba37d3",
   "metadata": {},
   "outputs": [],
   "source": [
    "# Importing data splits\n",
    "with open('splits/split_50.json','r') as f:\n",
    "    splits = json.load(f)\n",
    "\n",
    "train_data=splits['train']\n",
    "val_data=splits['val']"
   ]
  },
  {
   "cell_type": "code",
   "execution_count": null,
   "id": "93bd7830",
   "metadata": {},
   "outputs": [],
   "source": [
    "train_dataset=SequenceDataset(train_data,modification,operator)"
   ]
  },
  {
   "cell_type": "code",
   "execution_count": 11,
   "id": "8ccc0f5b",
   "metadata": {},
   "outputs": [],
   "source": [
    "train_loader=DataLoader(train_dataset,batch_size=1,shuffle=True,num_workers=4)"
   ]
  },
  {
   "cell_type": "code",
   "execution_count": 12,
   "id": "1ca5e9a7",
   "metadata": {},
   "outputs": [],
   "source": [
    "batch_1=next(iter(train_loader))"
   ]
  },
  {
   "cell_type": "code",
   "execution_count": 13,
   "id": "47d07969",
   "metadata": {},
   "outputs": [
    {
     "data": {
      "text/plain": [
       "torch.Size([1, 1, 256, 256, 40])"
      ]
     },
     "execution_count": 13,
     "metadata": {},
     "output_type": "execute_result"
    }
   ],
   "source": [
    "batch_1[0].size()"
   ]
  },
  {
   "cell_type": "code",
   "execution_count": 14,
   "id": "e4526c6e",
   "metadata": {},
   "outputs": [
    {
     "data": {
      "text/plain": [
       "torch.Size([1, 1, 256, 256, 1])"
      ]
     },
     "execution_count": 14,
     "metadata": {},
     "output_type": "execute_result"
    }
   ],
   "source": [
    "batch_1[1].size()"
   ]
  },
  {
   "cell_type": "code",
   "execution_count": null,
   "id": "b5183abd",
   "metadata": {},
   "outputs": [],
   "source": []
  }
 ],
 "metadata": {
  "kernelspec": {
   "display_name": "venv",
   "language": "python",
   "name": "python3"
  },
  "language_info": {
   "codemirror_mode": {
    "name": "ipython",
    "version": 3
   },
   "file_extension": ".py",
   "mimetype": "text/x-python",
   "name": "python",
   "nbconvert_exporter": "python",
   "pygments_lexer": "ipython3",
   "version": "3.12.3"
  }
 },
 "nbformat": 4,
 "nbformat_minor": 5
}
